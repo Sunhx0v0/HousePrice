{
 "cells": [
  {
   "cell_type": "markdown",
   "id": "fdb4c28b-1e5c-4c12-acd7-59d3ceac395d",
   "metadata": {},
   "source": [
    "1.导入需要的包"
   ]
  },
  {
   "cell_type": "code",
   "execution_count": null,
   "id": "1ef220e4-f7d6-498b-a2cd-1de8d2680e11",
   "metadata": {},
   "outputs": [],
   "source": [
    "import pandas as pd\n",
    "import numpy as np\n",
    "import matplotlib.pyplot as plt"
   ]
  },
  {
   "cell_type": "code",
   "execution_count": null,
   "id": "93f68f49-fafc-4df0-afd8-127070a83cb0",
   "metadata": {},
   "outputs": [],
   "source": []
  }
 ],
 "metadata": {
  "kernelspec": {
   "display_name": "Python 3 (ipykernel)",
   "language": "python",
   "name": "python3"
  },
  "language_info": {
   "codemirror_mode": {
    "name": "ipython",
    "version": 3
   },
   "file_extension": ".py",
   "mimetype": "text/x-python",
   "name": "python",
   "nbconvert_exporter": "python",
   "pygments_lexer": "ipython3",
   "version": "3.10.13"
  }
 },
 "nbformat": 4,
 "nbformat_minor": 5
}
